{
 "cells": [
  {
   "attachments": {},
   "cell_type": "markdown",
   "metadata": {},
   "source": [
    "<h5> minimum number of jumps taken to reach at the end of the list </h5>"
   ]
  },
  {
   "cell_type": "code",
   "execution_count": 6,
   "metadata": {},
   "outputs": [
    {
     "data": {
      "text/plain": [
       "3"
      ]
     },
     "execution_count": 6,
     "metadata": {},
     "output_type": "execute_result"
    }
   ],
   "source": [
    "def jump_to_last():\n",
    "    N = 11 \n",
    "    arr = [1, 3, 5, 8, 9, 2, 6, 7, 6, 8, 9]\n",
    "\n",
    "    jump=1\n",
    "    step = maxe =arr[0]\n",
    "\n",
    "    if len(arr)==1:\n",
    "        return 0\n",
    "    elif arr[0]==0:\n",
    "        return -1\n",
    "    \n",
    "    else:\n",
    "        for i in range(1, N):\n",
    "            if i==N-1:\n",
    "                return jump\n",
    "            maxe=max(maxe, arr[i]+i)\n",
    "            step=step-1\n",
    "            if step==0:\n",
    "                jump+=1\n",
    "                if i > maxe:\n",
    "                    return -1\n",
    "                step = maxe-i\n",
    "\n",
    "jump_to_last()"
   ]
  },
  {
   "attachments": {},
   "cell_type": "markdown",
   "metadata": {},
   "source": [
    "<h5>\n",
    "\t\n",
    "Minimise the maximum difference between heights [V.IMP]\n",
    "\n",
    "</h5>"
   ]
  },
  {
   "cell_type": "code",
   "execution_count": 9,
   "metadata": {},
   "outputs": [
    {
     "name": "stdout",
     "output_type": "stream",
     "text": [
      "min-3 , max -8\n",
      "ans--- 5\n",
      "min-3 , max -8\n",
      "ans--- 5\n",
      "min-3 , max -10\n",
      "ans--- 5\n",
      "5\n"
     ]
    }
   ],
   "source": [
    "class Solution:\n",
    "    def getMinDiff(self, arr, n, k):\n",
    "        # code here\n",
    "        arr.sort()\n",
    "        ans=arr[n-1]-arr[0]\n",
    "        mi=arr[0]\n",
    "        ma=arr[n-1]\n",
    "        for i in range(1, n):\n",
    "            if arr[i]<k:\n",
    "                continue\n",
    "            mi=min(arr[0]+k, arr[i]-k)\n",
    "            ma=max(arr[i-1]+k, arr[n-1]-k)\n",
    "            print(\"min-{} , max -{}\".format(mi, ma))\n",
    "            ans=min(ans, ma-mi)\n",
    "            print('ans---', ans)\n",
    "        return ans\n",
    "    \n",
    "obj=Solution()\n",
    "print(obj.getMinDiff([1, 5, 8, 10],4, 2))"
   ]
  },
  {
   "attachments": {},
   "cell_type": "markdown",
   "metadata": {},
   "source": []
  }
 ],
 "metadata": {
  "kernelspec": {
   "display_name": "Python 3",
   "language": "python",
   "name": "python3"
  },
  "language_info": {
   "codemirror_mode": {
    "name": "ipython",
    "version": 3
   },
   "file_extension": ".py",
   "mimetype": "text/x-python",
   "name": "python",
   "nbconvert_exporter": "python",
   "pygments_lexer": "ipython3",
   "version": "3.10.6"
  },
  "orig_nbformat": 4
 },
 "nbformat": 4,
 "nbformat_minor": 2
}
