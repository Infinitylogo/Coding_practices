{
 "cells": [
  {
   "cell_type": "markdown",
   "metadata": {},
   "source": [
    "#when question is asked : -- it is sorted array use binary search :--"
   ]
  },
  {
   "cell_type": "code",
   "execution_count": 28,
   "metadata": {},
   "outputs": [
    {
     "name": "stdout",
     "output_type": "stream",
     "text": [
      "-1\n",
      "0\n",
      "1\n",
      "2\n",
      "3\n"
     ]
    }
   ],
   "source": [
    "#Binary search  (array will be sorted ):--\n",
    "#simple binary search\n",
    "\n",
    "arr=[1, 2, 3, 4, 5, 5, 6, 7, 8]\n",
    "\n",
    "#find the index of elements \n",
    "# O(log(n)), space -- O(1)\n",
    "# if recursive :--  log(n)\n",
    "\n",
    "\n",
    "def binary_search_asc(arr, element):\n",
    "  first=0\n",
    "  end=len(arr)-1\n",
    "  if len(arr)==0:\n",
    "    return -1\n",
    "  elif arr[0]==element:\n",
    "     return 0\n",
    "  \n",
    "  while first<=end: \n",
    "    mid = first+(end-first)//2 # this is in order to remove the interger overflow.\n",
    "    if arr[mid]==element:\n",
    "       return mid\n",
    "    elif arr[mid]>element:\n",
    "       end=mid-1\n",
    "    else:\n",
    "       first=mid+1\n",
    "\n",
    "  return -1\n",
    "\n",
    "for i in range(0, 5):\n",
    "   print(binary_search_asc(arr, i))"
   ]
  },
  {
   "cell_type": "code",
   "execution_count": 29,
   "metadata": {},
   "outputs": [
    {
     "name": "stdout",
     "output_type": "stream",
     "text": [
      "[8, 7, 6, 5, 5, 4, 3, 2, 1]\n",
      "-1\n",
      "8\n",
      "7\n",
      "6\n",
      "5\n"
     ]
    }
   ],
   "source": [
    "#Reverse sorted flow :--\n",
    "#Descending sorted array :--\n",
    "arr1=arr[::-1]\n",
    "print(arr1)\n",
    "\n",
    "def binary_search_desc(arr, element):\n",
    "  first=0\n",
    "  end=len(arr)-1\n",
    "  if len(arr)==0:\n",
    "    return -1\n",
    "  elif arr[0]==element:\n",
    "     return 0\n",
    "  \n",
    "  while first<=end: \n",
    "    mid = first+(end-first)//2 # this is in order to remove the interger overflow.\n",
    "    if arr[mid]==element:\n",
    "       return mid\n",
    "    elif arr[mid]>element:  # 5>4\n",
    "       first=mid+1\n",
    "    else:\n",
    "       end=mid-1\n",
    "\n",
    "  return -1\n",
    "\n",
    "for i in range(0, 5):\n",
    "   print(binary_search_desc(arr1, i))"
   ]
  },
  {
   "cell_type": "code",
   "execution_count": 34,
   "metadata": {},
   "outputs": [
    {
     "name": "stdout",
     "output_type": "stream",
     "text": [
      "asc\n",
      "4\n"
     ]
    }
   ],
   "source": [
    "#order agnostic search :--\n",
    "#don't know if the array is sorted in ascending order or descending order then :--\n",
    "# we will check first or second index:-- \n",
    "#if the first index is greator second then desc and vice versa:-\n",
    "\n",
    "arr=[1,2,3,4,5]\n",
    "arr1=[5,4,3,2,1]\n",
    "# arr=arr1\n",
    "if arr[0]>arr[1]:\n",
    "    print('desc')\n",
    "    print(binary_search_desc(arr, 5))\n",
    "elif arr[0]<arr[1]:\n",
    "    print('asc')\n",
    "    print(binary_search_asc(arr, 5))\n",
    "\n",
    "    \n"
   ]
  },
  {
   "cell_type": "code",
   "execution_count": 37,
   "metadata": {},
   "outputs": [
    {
     "name": "stdout",
     "output_type": "stream",
     "text": [
      "3 7\n"
     ]
    }
   ],
   "source": [
    "# first and last occurence of elements in sorted array :--\n",
    "\n",
    "def first_occ(arr, ele):\n",
    "    start=0\n",
    "    end=len(arr)-1\n",
    "    first_ele = -1\n",
    "    while start<=end:\n",
    "        mid = start + (end-start)//2\n",
    "        if arr[mid]==ele:\n",
    "            first_ele=mid\n",
    "            end=mid-1\n",
    "\n",
    "        elif arr[mid]>ele:\n",
    "            end=mid-1\n",
    "        else:\n",
    "            start=mid+1\n",
    "    return first_ele\n",
    "\n",
    "\n",
    "def last_occ(arr, ele):\n",
    "    start=0\n",
    "    end=len(arr)-1\n",
    "    last_ele = -1\n",
    "    while start<=end:\n",
    "        mid = start + (end-start)//2\n",
    "\n",
    "        if arr[mid]==ele:\n",
    "            last_ele=mid\n",
    "            start=mid+1\n",
    "        elif arr[mid]>ele:\n",
    "            end=mid-1\n",
    "        else:\n",
    "            start=mid+1\n",
    "    return last_ele\n",
    "\n",
    "arr=[1, 5, 6, 10, 10, 10, 10, 10, 12, 15, 17, 19]\n",
    "ele=10\n",
    "print(first_occ(arr, ele), last_occ(arr, ele)) #first and last occurence of elements using bianry search.\n",
    "\n"
   ]
  },
  {
   "cell_type": "code",
   "execution_count": 4,
   "metadata": {},
   "outputs": [
    {
     "name": "stdout",
     "output_type": "stream",
     "text": [
      "2 5\n",
      "total count:-- 4\n"
     ]
    }
   ],
   "source": [
    "#number of total count in binary search in a sorted array \n",
    "def first_occ(arr, ele):\n",
    "    start=0\n",
    "    end=len(arr)-1\n",
    "    first_ele = -1\n",
    "    while start<=end:\n",
    "        mid = start + (end-start)//2\n",
    "        if arr[mid]==ele:\n",
    "            first_ele=mid\n",
    "            end=mid-1\n",
    "\n",
    "        elif arr[mid]>ele:\n",
    "            end=mid-1\n",
    "        else:\n",
    "            start=mid+1\n",
    "    return first_ele\n",
    "\n",
    "\n",
    "def last_occ(arr, ele):\n",
    "    start=0\n",
    "    end=len(arr)-1\n",
    "    last_ele = -1\n",
    "    while start<=end:\n",
    "        mid = start + (end-start)//2\n",
    "\n",
    "        if arr[mid]==ele:\n",
    "            last_ele=mid\n",
    "            start=mid+1\n",
    "        elif arr[mid]>ele:\n",
    "            end=mid-1\n",
    "        else:\n",
    "            start=mid+1\n",
    "    return last_ele\n",
    "\n",
    "# arr=[1, 5, 6, 10, 10, 10, 10, 10, 12, 15, 17, 19]\n",
    "arr=[1, 1, 2, 2, 2, 2, 3]\n",
    "ele=2\n",
    "print(first_occ(arr, ele), last_occ(arr, ele)) #first and last occurence of elements using bianry search.\n",
    "# finding the total count of 10 in array:--\n",
    "value = last_occ(arr, ele)- first_occ(arr, ele)+1\n",
    "print(f\"total count:-- {value}\")\n"
   ]
  },
  {
   "cell_type": "code",
   "execution_count": 25,
   "metadata": {},
   "outputs": [
    {
     "name": "stdout",
     "output_type": "stream",
     "text": [
      "0\n"
     ]
    }
   ],
   "source": [
    "#Number of Times a Sorted array is Rotated\n",
    "def binary_search(arr, n):\n",
    "    start=0\n",
    "    end=len(arr)-1\n",
    "    \n",
    "    while start<=end:\n",
    "\n",
    "        mid=start+(end-start)//2\n",
    "\n",
    "        prev = (mid-1+n)%n\n",
    "        nex = (mid+1)%n\n",
    "\n",
    "        if arr[mid] <= arr[nex] and arr[mid] <arr[prev]:\n",
    "            return mid\n",
    "        \n",
    "        elif arr[end]<arr[mid]:\n",
    "            start = mid+1\n",
    "\n",
    "        elif arr[start]>arr[mid]:\n",
    "            end = mid-1\n",
    "\n",
    "        else:\n",
    "            return 0\n",
    "        \n",
    "#finding times the sorted array is rotated.\n",
    "# for checking conditions in array :-- \n",
    "# Important:--\n",
    "# (mid+1)%N checking \n",
    "# (mid +N-1)%N\n",
    "arr=[18, 17, 14, 12,  3, 4, 5]\n",
    "n=len(arr)\n",
    "print(binary_search(arr, n))  "
   ]
  },
  {
   "cell_type": "code",
   "execution_count": 27,
   "metadata": {},
   "outputs": [
    {
     "data": {
      "text/plain": [
       "2"
      ]
     },
     "execution_count": 27,
     "metadata": {},
     "output_type": "execute_result"
    }
   ],
   "source": [
    "def countRotations(arr, n):\n",
    "    start = 0\n",
    "    end = n-1\n",
    " \n",
    "    # Finding the index of minimum of the array\n",
    "    # index of min would be equal to number to rotation\n",
    "    while start<=end:\n",
    "        mid = start+(end-start)//2\n",
    "         \n",
    "        # Calculating the previous(prev)\n",
    "        # and next(nex) index of mid\n",
    "        prev = (mid-1+n)%n\n",
    "        nex = (mid+1)%n\n",
    " \n",
    "        # Checking if mid is minimum\n",
    "        if arr[mid]<arr[prev]\\\n",
    "           and arr[mid]<=arr[nex]:\n",
    "          return mid\n",
    "       \n",
    "        # if not selecting the unsorted part of array\n",
    "        elif arr[mid]<arr[start]: end = mid-1\n",
    "        elif arr[mid]>arr[end]: start = mid+1\n",
    "        else: return 0\n",
    "        \n",
    "arr=[15, 18, 2, 3, 6, 12]\n",
    "n=len(arr)\n",
    "countRotations(arr, n)"
   ]
  },
  {
   "cell_type": "code",
   "execution_count": null,
   "metadata": {},
   "outputs": [],
   "source": [
    "#searching in nearly sorted array \n"
   ]
  }
 ],
 "metadata": {
  "kernelspec": {
   "display_name": "Python 3",
   "language": "python",
   "name": "python3"
  },
  "language_info": {
   "codemirror_mode": {
    "name": "ipython",
    "version": 3
   },
   "file_extension": ".py",
   "mimetype": "text/x-python",
   "name": "python",
   "nbconvert_exporter": "python",
   "pygments_lexer": "ipython3",
   "version": "3.10.12"
  },
  "orig_nbformat": 4
 },
 "nbformat": 4,
 "nbformat_minor": 2
}
