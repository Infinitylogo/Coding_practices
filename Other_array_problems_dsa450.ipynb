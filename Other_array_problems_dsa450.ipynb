{
 "cells": [
  {
   "attachments": {},
   "cell_type": "markdown",
   "metadata": {},
   "source": [
    "<h5>\n",
    "\t\n",
    "Minimise the maximum difference between heights [V.IMP]\n",
    "\n",
    "</h5>"
   ]
  },
  {
   "cell_type": "code",
   "execution_count": 1,
   "metadata": {},
   "outputs": [
    {
     "name": "stdout",
     "output_type": "stream",
     "text": [
      "5\n"
     ]
    }
   ],
   "source": [
    "class Solution:\n",
    "    def getMinDiff(self, arr, n, k):\n",
    "        # code here\n",
    "        arr.sort()\n",
    "        ans=arr[n-1]-arr[0]\n",
    "        mi=arr[0]\n",
    "        ma=arr[n-1]\n",
    "        for i in range(1, n):\n",
    "            if arr[i]<k:\n",
    "                continue\n",
    "            mi=min(arr[0]+k, arr[i]-k)\n",
    "            ma=max(arr[i-1]+k, arr[n-1]-k)\n",
    "            ans=min(ans, ma-mi)\n",
    "        return ans\n",
    "    \n",
    "obj=Solution()\n",
    "print(obj.getMinDiff([1, 5, 8, 10],4, 2))"
   ]
  }
 ],
 "metadata": {
  "kernelspec": {
   "display_name": "Python 3",
   "language": "python",
   "name": "python3"
  },
  "language_info": {
   "codemirror_mode": {
    "name": "ipython",
    "version": 3
   },
   "file_extension": ".py",
   "mimetype": "text/x-python",
   "name": "python",
   "nbconvert_exporter": "python",
   "pygments_lexer": "ipython3",
   "version": "3.10.6"
  },
  "orig_nbformat": 4
 },
 "nbformat": 4,
 "nbformat_minor": 2
}
