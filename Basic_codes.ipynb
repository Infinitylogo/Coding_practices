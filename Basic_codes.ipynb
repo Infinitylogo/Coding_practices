{
 "cells": [
  {
   "cell_type": "code",
   "execution_count": 3,
   "metadata": {},
   "outputs": [],
   "source": [
    "#Reverse the string "
   ]
  },
  {
   "cell_type": "code",
   "execution_count": 6,
   "metadata": {},
   "outputs": [
    {
     "name": "stdout",
     "output_type": "stream",
     "text": [
      "much.very.program.this.like.i\n"
     ]
    }
   ],
   "source": [
    "class Solution:\n",
    "    \n",
    "    #Function to reverse words in a given string.\n",
    "    def reverseWords(self,S):\n",
    "        # code here \n",
    "        s=S.split('.')\n",
    "        return '.'.join(s[::-1])\n",
    "    \n",
    "obj=Solution()\n",
    "print(obj.reverseWords('i.like.this.program.very.much'))"
   ]
  },
  {
   "cell_type": "code",
   "execution_count": null,
   "metadata": {},
   "outputs": [],
   "source": []
  }
 ],
 "metadata": {
  "kernelspec": {
   "display_name": "Python 3",
   "language": "python",
   "name": "python3"
  },
  "language_info": {
   "codemirror_mode": {
    "name": "ipython",
    "version": 3
   },
   "file_extension": ".py",
   "mimetype": "text/x-python",
   "name": "python",
   "nbconvert_exporter": "python",
   "pygments_lexer": "ipython3",
   "version": "3.10.6"
  },
  "orig_nbformat": 4
 },
 "nbformat": 4,
 "nbformat_minor": 2
}
