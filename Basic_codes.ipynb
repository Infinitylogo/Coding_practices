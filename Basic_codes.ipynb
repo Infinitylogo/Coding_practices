{
 "cells": [
  {
   "attachments": {},
   "cell_type": "markdown",
   "metadata": {},
   "source": [
    "# 450 DSA SOLUTION IN PYTHON \n"
   ]
  },
  {
   "attachments": {},
   "cell_type": "markdown",
   "metadata": {},
   "source": [
    "<h5> Reverse the string  </h5>"
   ]
  },
  {
   "cell_type": "code",
   "execution_count": 6,
   "metadata": {},
   "outputs": [
    {
     "name": "stdout",
     "output_type": "stream",
     "text": [
      "much.very.program.this.like.i\n"
     ]
    }
   ],
   "source": [
    "class Solution:\n",
    "    \n",
    "    #Function to reverse words in a given string.\n",
    "    def reverseWords(self,S):\n",
    "        # code here \n",
    "        s=S.split('.')\n",
    "        return '.'.join(s[::-1])\n",
    "    \n",
    "obj=Solution()\n",
    "print(obj.reverseWords('i.like.this.program.very.much'))"
   ]
  },
  {
   "attachments": {},
   "cell_type": "markdown",
   "metadata": {},
   "source": [
    "<h5> Find the maximum and minimum element in an array </h5>"
   ]
  },
  {
   "cell_type": "code",
   "execution_count": 10,
   "metadata": {},
   "outputs": [
    {
     "data": {
      "text/plain": [
       "(1, 10000)"
      ]
     },
     "execution_count": 10,
     "metadata": {},
     "output_type": "execute_result"
    }
   ],
   "source": [
    "def getMinMax( a):\n",
    "    v=sorted(a)\n",
    "    return v[0],v[-1]\n",
    "\n",
    "getMinMax([3, 2, 1, 56, 10000, 167])"
   ]
  },
  {
   "attachments": {},
   "cell_type": "markdown",
   "metadata": {},
   "source": [
    "<h5> Find the \"Kth\" max and min element of an array </h5>"
   ]
  },
  {
   "cell_type": "code",
   "execution_count": 12,
   "metadata": {},
   "outputs": [
    {
     "name": "stdout",
     "output_type": "stream",
     "text": [
      "15\n"
     ]
    }
   ],
   "source": [
    "class Solution:\n",
    "    def kthSmallest(self,arr, k):\n",
    "        arr=sorted(arr)\n",
    "        return arr[k-1]\n",
    "    \n",
    "obj=Solution()\n",
    "arr=[7, 10, 4, 20, 15]\n",
    "print(obj.kthSmallest(arr, 4)) "
   ]
  },
  {
   "attachments": {},
   "cell_type": "markdown",
   "metadata": {},
   "source": [
    "<h5>Sort an array of 0s, 1s and 2s </h5>"
   ]
  },
  {
   "cell_type": "code",
   "execution_count": 13,
   "metadata": {},
   "outputs": [
    {
     "name": "stdout",
     "output_type": "stream",
     "text": [
      "[0, 0, 1, 2, 2]\n"
     ]
    }
   ],
   "source": [
    "class Solution:\n",
    "    def sort012(self,arr,n):\n",
    "        # code here\n",
    "        low=0\n",
    "        high=len(arr)-1\n",
    "        mid=0\n",
    "        while(mid<=high):\n",
    "            if arr[mid]==0:\n",
    "                arr[low], arr[mid]=arr[mid], arr[low]\n",
    "                mid+=1\n",
    "                low+=1\n",
    "            elif arr[mid]==1:\n",
    "                mid+=1\n",
    "            elif arr[mid]==2:\n",
    "                arr[high], arr[mid] = arr[mid], arr[high]\n",
    "                high-=1\n",
    "        return arr\n",
    "    \n",
    "obj=Solution()\n",
    "arr=[0, 2, 1, 2, 0]\n",
    "print(obj.sort012(arr, len(arr)-1))"
   ]
  },
  {
   "attachments": {},
   "cell_type": "markdown",
   "metadata": {},
   "source": [
    "<h5> Move all negative elements to end </h5>"
   ]
  },
  {
   "cell_type": "code",
   "execution_count": 15,
   "metadata": {},
   "outputs": [
    {
     "name": "stdout",
     "output_type": "stream",
     "text": [
      "[1, 3, 2, 11, -1, -7, -5, 6]\n"
     ]
    }
   ],
   "source": [
    "class Solution:\n",
    "    def segregateElements(self, arr, n):\n",
    "        # Your code goes here\n",
    "        a,b=[],[]\n",
    "        for i in range(n):\n",
    "            if arr[i]<0:\n",
    "                a.append(arr[i])\n",
    "            else:\n",
    "                b.append(arr[i])\n",
    "        v=b+a\n",
    "        for i in range(n):\n",
    "            arr[i]=v[i]\n",
    "        return arr\n",
    "\n",
    "obj=Solution()\n",
    "arr=[1, -1, 3, 2, -7, -5, 11, 6]\n",
    "print(obj.segregateElements(arr, len(arr)-1))\n"
   ]
  },
  {
   "attachments": {},
   "cell_type": "markdown",
   "metadata": {},
   "source": [
    "<h5>\t\n",
    "Find the Union and Intersection of the two sorted arrays.</h5>"
   ]
  },
  {
   "cell_type": "code",
   "execution_count": 17,
   "metadata": {},
   "outputs": [
    {
     "name": "stdout",
     "output_type": "stream",
     "text": [
      "5\n"
     ]
    }
   ],
   "source": [
    "class Solution:    \n",
    "    #Function to return the count of number of elements in union of two arrays.\n",
    "    def doUnion(self,a,b):\n",
    "        v=a+b\n",
    "        dic={}\n",
    "        for i in v:\n",
    "            if i not in dic:\n",
    "                dic[i]=1\n",
    "            else:\n",
    "                dic[i]+=1\n",
    "        return len(dic)\n",
    "    \n",
    "a=[1, 2, 3, 4, 5]\n",
    "b=[1, 2, 3]\n",
    "\n",
    "obj=Solution()\n",
    "print(obj.doUnion(a, b))"
   ]
  },
  {
   "attachments": {},
   "cell_type": "markdown",
   "metadata": {},
   "source": [
    "<h5> \t\n",
    "Write a program to cyclically rotate an array by one. </h5>"
   ]
  },
  {
   "cell_type": "code",
   "execution_count": 19,
   "metadata": {},
   "outputs": [
    {
     "name": "stdout",
     "output_type": "stream",
     "text": [
      "[5, 1, 2, 3, 4]\n"
     ]
    }
   ],
   "source": [
    "def rotate( arr, n):\n",
    "    v=[arr[-1]]+arr[:n-1]\n",
    "    for i in range(len(v)):\n",
    "        arr[i]=v[i]\n",
    "    return arr\n",
    "\n",
    "print(rotate([1, 2, 3, 4, 5], 5))"
   ]
  }
 ],
 "metadata": {
  "kernelspec": {
   "display_name": "Python 3",
   "language": "python",
   "name": "python3"
  },
  "language_info": {
   "codemirror_mode": {
    "name": "ipython",
    "version": 3
   },
   "file_extension": ".py",
   "mimetype": "text/x-python",
   "name": "python",
   "nbconvert_exporter": "python",
   "pygments_lexer": "ipython3",
   "version": "3.10.6"
  },
  "orig_nbformat": 4
 },
 "nbformat": 4,
 "nbformat_minor": 2
}
