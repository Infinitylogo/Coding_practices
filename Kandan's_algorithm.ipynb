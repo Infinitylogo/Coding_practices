{
 "cells": [
  {
   "attachments": {},
   "cell_type": "markdown",
   "metadata": {},
   "source": [
    "<h5>\n",
    "<p> problems that can be solved using kandan's algorithms </p>\n",
    "<pre>\n",
    "Contiguous subarray.\n",
    "Maximum subarray.\n",
    "Contiguous increasing subarray.\n",
    "Subsequence Sum.\n",
    "</pre>\n",
    "</h5>"
   ]
  },
  {
   "cell_type": "code",
   "execution_count": 1,
   "metadata": {},
   "outputs": [
    {
     "name": "stdout",
     "output_type": "stream",
     "text": [
      "9\n"
     ]
    }
   ],
   "source": [
    "#User function Template for python3\n",
    "\n",
    "class Solution:\n",
    "    ##Complete this function\n",
    "    #Function to find the sum of contiguous subarray with maximum sum.\n",
    "    def maxSubArraySum(self,arr,N):\n",
    "        ##Your code here\n",
    "        max_value=arr[0]\n",
    "        curr=arr[0]\n",
    "        for i in range(1,N):\n",
    "            curr=max(arr[i], curr+arr[i])\n",
    "            max_value=max(max_value, curr)\n",
    "        return max_value\n",
    "\n",
    "obj=Solution()\n",
    "print(obj.maxSubArraySum([1,2,3,-2,5], 5))"
   ]
  },
  {
   "attachments": {},
   "cell_type": "markdown",
   "metadata": {},
   "source": [
    "<pre>\n",
    "\n",
    "Normal apprach take time complexity of aroung N*N \n",
    "But with the kandan's algo we can solve in O(N)\n",
    "\n",
    "</pre>"
   ]
  },
  {
   "attachments": {},
   "cell_type": "markdown",
   "metadata": {},
   "source": [
    "<p> Another efficient approch for this problem is to use Dynamic algorithms </p>"
   ]
  }
 ],
 "metadata": {
  "kernelspec": {
   "display_name": "Python 3",
   "language": "python",
   "name": "python3"
  },
  "language_info": {
   "codemirror_mode": {
    "name": "ipython",
    "version": 3
   },
   "file_extension": ".py",
   "mimetype": "text/x-python",
   "name": "python",
   "nbconvert_exporter": "python",
   "pygments_lexer": "ipython3",
   "version": "3.10.6"
  },
  "orig_nbformat": 4
 },
 "nbformat": 4,
 "nbformat_minor": 2
}
