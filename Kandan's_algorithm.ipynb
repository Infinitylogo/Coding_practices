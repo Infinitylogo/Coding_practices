{
 "cells": [
  {
   "attachments": {},
   "cell_type": "markdown",
   "metadata": {},
   "source": [
    "<h5>\n",
    "<p> problems that can be solved using kandan's algorithms </p>\n",
    "<pre>\n",
    "Contiguous subarray.\n",
    "Maximum subarray.\n",
    "Contiguous increasing subarray.\n",
    "Subsequence Sum.\n",
    "</pre>\n",
    "</h5>"
   ]
  },
  {
   "cell_type": "code",
   "execution_count": 2,
   "metadata": {},
   "outputs": [
    {
     "name": "stdout",
     "output_type": "stream",
     "text": [
      "a[i] 2\n",
      "curr:-- 3\n",
      "max_values 3\n",
      "a[i] 3\n",
      "curr:-- 6\n",
      "max_values 6\n",
      "a[i] -2\n",
      "curr:-- 4\n",
      "max_values 6\n",
      "a[i] 5\n",
      "curr:-- 9\n",
      "max_values 9\n",
      "9\n"
     ]
    }
   ],
   "source": [
    "#User function Template for python3\n",
    "\n",
    "class Solution:\n",
    "    ##Complete this function\n",
    "    #Function to find the sum of contiguous subarray with maximum sum.\n",
    "    def maxSubArraySum(self,arr,N):\n",
    "        ##Your code here\n",
    "        max_value=arr[0]\n",
    "        curr=arr[0]\n",
    "        for i in range(1,N):\n",
    "            print('a[i]', arr[i])\n",
    "            curr=max(arr[i], curr+arr[i])\n",
    "            print(\"curr:--\", curr)\n",
    "            max_value=max(max_value, curr)\n",
    "            print(\"max_values\", max_value)\n",
    "        return max_value\n",
    "\n",
    "obj=Solution()\n",
    "print(obj.maxSubArraySum([1,2,3,-2,5], 5))"
   ]
  },
  {
   "attachments": {},
   "cell_type": "markdown",
   "metadata": {},
   "source": [
    "<pre>\n",
    "\n",
    "Normal apprach take time complexity of aroung N*N \n",
    "But with the kandan's algo we can solve in O(N)\n",
    "\n",
    "</pre>"
   ]
  },
  {
   "attachments": {},
   "cell_type": "markdown",
   "metadata": {},
   "source": [
    "<p> Another efficient approch for this problem is to use Dynamic algorithms </p>"
   ]
  }
 ],
 "metadata": {
  "kernelspec": {
   "display_name": "Python 3",
   "language": "python",
   "name": "python3"
  },
  "language_info": {
   "codemirror_mode": {
    "name": "ipython",
    "version": 3
   },
   "file_extension": ".py",
   "mimetype": "text/x-python",
   "name": "python",
   "nbconvert_exporter": "python",
   "pygments_lexer": "ipython3",
   "version": "3.10.6"
  },
  "orig_nbformat": 4
 },
 "nbformat": 4,
 "nbformat_minor": 2
}
